{
 "cells": [
  {
   "cell_type": "markdown",
   "metadata": {},
   "source": [
    "# List\n",
    "\n",
    "Array와 List의 비슷한데 다른 점이 있다.\n",
    "\n",
    "1. List는 immutable 이다. 새로운 assignment를 할 수 없다.\n",
    "2. 구조가 다르다. List는 recursive 구조인 반면, Array는 flat 구조이다.\n",
    "\n",
    "Array 처럼 List도 Homogenous여서 모든 원소들은 같은 타입을 가져야 한다.\n",
    "\n",
    "list type은 covariant(공변)이다. 만약 S가 T의 subtype이라면 List[S]는 List[T]의 subtype이 된다. 예를 들어 List[String]은 List[Object]의 하위 타입인 것이다.\n",
    "\n",
    "empty List는 List[Nothing]인데 Nothing은 모든 클래스의 최하위 계층이기 때문에 모든 List의 sub type이 된다. 그래서 아래와 같은 코드가 동작한다.\n",
    "\n",
    "```scala\n",
    "val xs: List[String] = List()\n",
    "```"
   ]
  },
  {
   "cell_type": "markdown",
   "metadata": {},
   "source": [
    "모든 List는 2개의 기본 building block으로부터 생성된다. `Nil`과 `::`(\"cons\"라고 불림)\n",
    "\n",
    "Nil은 empty list를 의미하고 `::`은 선위 연산자로 리스트 앞을 확장할 때 쓰인다. `x :: xs`는 x가 맨 앞에 있는 리스트를 의미한다."
   ]
  },
  {
   "cell_type": "code",
   "execution_count": 5,
   "metadata": {},
   "outputs": [
    {
     "data": {
      "text/plain": [
       "\u001b[36mfruit\u001b[39m: \u001b[32mList\u001b[39m[\u001b[32mString\u001b[39m] = \u001b[33mList\u001b[39m(\u001b[32m\"apples\"\u001b[39m, \u001b[32m\"oranges\"\u001b[39m, \u001b[32m\"pears\"\u001b[39m)\n",
       "\u001b[36mfruit2\u001b[39m: \u001b[32mList\u001b[39m[\u001b[32mString\u001b[39m] = \u001b[33mList\u001b[39m(\u001b[32m\"apples\"\u001b[39m, \u001b[32m\"oranges\"\u001b[39m, \u001b[32m\"pears\"\u001b[39m)\n",
       "\u001b[36mres4_2\u001b[39m: \u001b[32mString\u001b[39m = \u001b[32m\"apples\"\u001b[39m\n",
       "\u001b[36mres4_3\u001b[39m: \u001b[32mList\u001b[39m[\u001b[32mString\u001b[39m] = \u001b[33mList\u001b[39m(\u001b[32m\"oranges\"\u001b[39m, \u001b[32m\"pears\"\u001b[39m)\n",
       "\u001b[36mres4_4\u001b[39m: \u001b[32mBoolean\u001b[39m = false"
      ]
     },
     "execution_count": 5,
     "metadata": {},
     "output_type": "execute_result"
    }
   ],
   "source": [
    "// 위 두 표현식은 같은 식이다.\n",
    "// fruit2는 내부적으로 fruit처럼 자동 변환된다.\n",
    "val fruit = \"apples\" :: (\"oranges\" :: (\"pears\" :: Nil))\n",
    "val fruit2 = List(\"apples\", \"oranges\", \"pears\")\n",
    "\n",
    "\n",
    "// 기본 메소드들\n",
    "fruit.head\n",
    "fruit.tail\n",
    "fruit.isEmpty\n",
    "\n",
    "/**\n",
    " * head와 tail은 빈 배열이 아닐때만 동작한다.\n",
    " * 빈 배열에서 시도 하면 exception이 발생한다.\n",
    " * java.util.NoSuchElementException: head of empty list\n",
    " */\n",
    "//Nil.head"
   ]
  },
  {
   "cell_type": "code",
   "execution_count": 7,
   "metadata": {},
   "outputs": [
    {
     "data": {
      "text/plain": [
       "\u001b[36ma\u001b[39m: \u001b[32mString\u001b[39m = \u001b[32m\"apples\"\u001b[39m\n",
       "\u001b[36mb\u001b[39m: \u001b[32mString\u001b[39m = \u001b[32m\"oranges\"\u001b[39m\n",
       "\u001b[36mc\u001b[39m: \u001b[32mString\u001b[39m = \u001b[32m\"pears\"\u001b[39m\n",
       "\u001b[36md\u001b[39m: \u001b[32mString\u001b[39m = \u001b[32m\"apples\"\u001b[39m\n",
       "\u001b[36me\u001b[39m: \u001b[32mString\u001b[39m = \u001b[32m\"oranges\"\u001b[39m\n",
       "\u001b[36mrest\u001b[39m: \u001b[32mList\u001b[39m[\u001b[32mString\u001b[39m] = \u001b[33mList\u001b[39m(\u001b[32m\"pears\"\u001b[39m)"
      ]
     },
     "execution_count": 7,
     "metadata": {},
     "output_type": "execute_result"
    }
   ],
   "source": [
    "// List는 pattern matching 도 할 수 있다.\n",
    "val List(a, b, c) = fruit\n",
    "\n",
    "// 만약 정확한 개수를 모를땐 rest를 쓸 수도 있다.\n",
    "val d :: e :: rest = fruit"
   ]
  },
  {
   "cell_type": "markdown",
   "metadata": {},
   "source": [
    "## Fist-order method\n",
    "first-order method란 argument로 어떠한 function도 받지 않는 메소드를 의미한다.\n",
    "\n",
    "### Concatenating\n",
    "`::`와 비슷하게 `:::`는 두 리스트를 concat할 때 사용한다."
   ]
  },
  {
   "cell_type": "code",
   "execution_count": 9,
   "metadata": {},
   "outputs": [
    {
     "data": {
      "text/plain": [
       "\u001b[36mres8\u001b[39m: \u001b[32mList\u001b[39m[\u001b[32mInt\u001b[39m] = \u001b[33mList\u001b[39m(\u001b[32m1\u001b[39m, \u001b[32m2\u001b[39m, \u001b[32m3\u001b[39m)"
      ]
     },
     "execution_count": 9,
     "metadata": {},
     "output_type": "execute_result"
    }
   ],
   "source": [
    "List(1,2) ::: List(3)"
   ]
  },
  {
   "cell_type": "markdown",
   "metadata": {},
   "source": [
    "cons 처럼 `xs ::: ys ::: zs`는 내부적으로 `xs ::: (ys ::: zs)`로 변환된다."
   ]
  },
  {
   "cell_type": "markdown",
   "metadata": {},
   "source": [
    "### Taking the length of a list: length\n",
    "\n",
    "list의 length method는 비싼 연산이다. Linked List이므로 모든 요소들을 탐색해야 하기 때문이다. 그렇기 때문에 빈 배열을 확인하기 위해서는 `xs.isEmpty`가 `xs.length == 0` 보다 더 좋다.\n",
    "\n",
    "### Accessing the end of a list: init and last\n",
    "head는 첫 요소를, tail은 첫 요소를 제외한 나머지를 리턴했었다.\n",
    "이와 반대로 `last`는 마지막 요소, `init`은 마지막 요소를 제외한 나머지를 리턴한다."
   ]
  },
  {
   "cell_type": "markdown",
   "metadata": {},
   "source": []
  }
 ],
 "metadata": {
  "kernelspec": {
   "display_name": "Scala",
   "language": "scala",
   "name": "scala"
  },
  "language_info": {
   "codemirror_mode": "text/x-scala",
   "file_extension": ".sc",
   "mimetype": "text/x-scala",
   "name": "scala",
   "nbconvert_exporter": "script",
   "version": "2.12.12"
  },
  "orig_nbformat": 4
 },
 "nbformat": 4,
 "nbformat_minor": 2
}
