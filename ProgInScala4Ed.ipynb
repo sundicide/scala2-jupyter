{
 "cells": [
  {
   "cell_type": "code",
   "execution_count": 4,
   "metadata": {},
   "outputs": [
    {
     "name": "stdout",
     "output_type": "stream",
     "text": [
      "4, 2, 3"
     ]
    },
    {
     "data": {
      "text/plain": [
       "\u001b[36ma\u001b[39m: \u001b[32mArray\u001b[39m[\u001b[32mInt\u001b[39m] = \u001b[33mArray\u001b[39m(\u001b[32m4\u001b[39m, \u001b[32m2\u001b[39m, \u001b[32m3\u001b[39m)"
      ]
     },
     "execution_count": 4,
     "metadata": {},
     "output_type": "execute_result"
    }
   ],
   "source": [
    "val a: Array[Int] = Array(1,2,3) \n",
    "\n",
    "// 새로운 값을 할당하려 했기 때문에 에러\n",
    "// a = Array(2,3,4)\n",
    "\n",
    "// object 내부 변경은 Ok\n",
    "a(0) = 4\n",
    "\n",
    "print(a mkString \", \")"
   ]
  },
  {
   "cell_type": "code",
   "execution_count": 6,
   "metadata": {},
   "outputs": [
    {
     "data": {
      "text/plain": [
       "\u001b[36mres5_0\u001b[39m: \u001b[32mRange\u001b[39m.\u001b[32mInclusive\u001b[39m = \u001b[33mRange.Inclusive\u001b[39m(\u001b[32m0\u001b[39m, \u001b[32m1\u001b[39m, \u001b[32m2\u001b[39m)\n",
       "\u001b[36mres5_1\u001b[39m: \u001b[32mRange\u001b[39m.\u001b[32mInclusive\u001b[39m = \u001b[33mRange.Inclusive\u001b[39m(\u001b[32m0\u001b[39m, \u001b[32m1\u001b[39m, \u001b[32m2\u001b[39m)"
      ]
     },
     "execution_count": 6,
     "metadata": {},
     "output_type": "execute_result"
    }
   ],
   "source": [
    "/*\n",
    " * 아래 두 표현은 같은 표현식이다.\n",
    "*/\n",
    "0 to 2\n",
    "(0).to(2)"
   ]
  },
  {
   "cell_type": "markdown",
   "metadata": {},
   "source": [
    "스칼라에서는 parameter가 하나면 `.`혹은 `()`을 생략할 수 있다.\n",
    "\n",
    "scala에는 전통적인 연산자들은 없다.\n",
    "\n",
    "+, - 등은 모두 method이다.\n",
    "\n",
    "그래서 `1 + 2`는 `(1).+(2)` 로 치환된다."
   ]
  },
  {
   "cell_type": "code",
   "execution_count": 1,
   "metadata": {},
   "outputs": [
    {
     "data": {
      "text/plain": [
       "defined \u001b[32mobject\u001b[39m \u001b[36mFileMatcher\u001b[39m"
      ]
     },
     "execution_count": 1,
     "metadata": {},
     "output_type": "execute_result"
    }
   ],
   "source": [
    "object FileMatcher {\n",
    "  private def filesHere = (new java.io.File(\".\")).listFiles\n",
    "\n",
    "  def filesEnding(query: String) =\n",
    "    for (file <- filesHere; if file.getName.endsWith(query))\n",
    "      yield file\n",
    "}"
   ]
  },
  {
   "cell_type": "code",
   "execution_count": 13,
   "metadata": {},
   "outputs": [
    {
     "data": {
      "text/plain": [
       "defined \u001b[32mobject\u001b[39m \u001b[36mFileMatcher\u001b[39m\n",
       "\u001b[36mres12_1\u001b[39m: \u001b[32mArray\u001b[39m[\u001b[32mjava\u001b[39m.\u001b[32mio\u001b[39m.\u001b[32mFile\u001b[39m] = \u001b[33mArray\u001b[39m(./MyScala.scala)"
      ]
     },
     "execution_count": 13,
     "metadata": {},
     "output_type": "execute_result"
    }
   ],
   "source": [
    "/**\n",
    " * [Version 2]\n",
    " *  matcher를 도입해 여러 버전의 fileMatcher를 만들어 낸다.\n",
    " */\n",
    "object FileMatcher {\n",
    "  private def filesHere = (new java.io.File(\".\")).listFiles\n",
    "\n",
    "  def filesMatching(query: String, matcher: (String, String) => Boolean) =\n",
    "    for (file <- filesHere; if matcher(file.getName, query))\n",
    "      yield file\n",
    "\n",
    "  def filesEnding(query: String) =\n",
    "    filesMatching(query, (fileName, query) => fileName.endsWith(query))\n",
    "  def filesContaining(query: String) =\n",
    "    filesMatching(query, _.contains(_))\n",
    "  def filesReges(query: String) =\n",
    "    filesMatching(query, _.matches(_))\n",
    "}\n",
    "\n",
    "FileMatcher.filesEnding(\"scala\")\n"
   ]
  },
  {
   "cell_type": "code",
   "execution_count": 15,
   "metadata": {},
   "outputs": [
    {
     "data": {
      "text/plain": [
       "defined \u001b[32mobject\u001b[39m \u001b[36mFileMatcher\u001b[39m\n",
       "\u001b[36mres14_1\u001b[39m: \u001b[32mArray\u001b[39m[\u001b[32mjava\u001b[39m.\u001b[32mio\u001b[39m.\u001b[32mFile\u001b[39m] = \u001b[33mArray\u001b[39m(./MyScala.scala)"
      ]
     },
     "execution_count": 15,
     "metadata": {},
     "output_type": "execute_result"
    }
   ],
   "source": [
    "/**\n",
    " * [Version 3]\n",
    " *  filesMatching내 for문에서 query는 전달받고 별도의 작업 없이 그대로 matcher로 보내줄 뿐이다.\n",
    " *  그래서 이를 호출하는 메소드에게 일임할 수 있다. \n",
    " * 이를 통해 code duplication을 줄일 수 있다.\n",
    " */\n",
    "object FileMatcher {\n",
    "  private def filesHere = (new java.io.File(\".\")).listFiles\n",
    "\n",
    "  def filesMatching(query: String, matcher: String => Boolean) = \n",
    "    for (file <- filesHere; if matcher(file.getName))\n",
    "      yield file\n",
    "\n",
    "  def filesEnding(query: String) =\n",
    "    filesMatching(query, _.endsWith(query))\n",
    "}\n",
    "\n",
    "FileMatcher.filesEnding(\"scala\")"
   ]
  },
  {
   "cell_type": "code",
   "execution_count": null,
   "metadata": {},
   "outputs": [],
   "source": []
  }
 ],
 "metadata": {
  "kernelspec": {
   "display_name": "Scala",
   "language": "scala",
   "name": "scala"
  },
  "language_info": {
   "codemirror_mode": "text/x-scala",
   "file_extension": ".sc",
   "mimetype": "text/x-scala",
   "name": "scala",
   "nbconvert_exporter": "script",
   "version": "2.12.12"
  },
  "orig_nbformat": 4
 },
 "nbformat": 4,
 "nbformat_minor": 2
}
